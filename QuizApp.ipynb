{
 "cells": [
  {
   "cell_type": "code",
   "execution_count": 2,
   "id": "e1d2e55c-5f7f-41ea-860f-fc1d4dc89182",
   "metadata": {},
   "outputs": [
    {
     "name": "stdout",
     "output_type": "stream",
     "text": [
      "\n",
      "--- Quiz App Menu ---\n",
      "1. Start Quiz\n",
      "2. Exit\n"
     ]
    },
    {
     "name": "stdin",
     "output_type": "stream",
     "text": [
      "Choose an option (1-2):  1\n"
     ]
    },
    {
     "name": "stdout",
     "output_type": "stream",
     "text": [
      "\n",
      "--- Starting the Quiz ---\n",
      "\n",
      "Question 1: What is the capital of France?\n",
      "1. Paris\n",
      "2. Berlin\n",
      "3. Rome\n",
      "4. Madrid\n"
     ]
    },
    {
     "name": "stdin",
     "output_type": "stream",
     "text": [
      "Enter your choice (1-4):  1\n"
     ]
    },
    {
     "name": "stdout",
     "output_type": "stream",
     "text": [
      "Correct!\n",
      "\n",
      "Question 2: Which planet is known as the Red Planet?\n",
      "1. Earth\n",
      "2. Mars\n",
      "3. Jupiter\n",
      "4. Venus\n"
     ]
    },
    {
     "name": "stdin",
     "output_type": "stream",
     "text": [
      "Enter your choice (1-4):  3\n"
     ]
    },
    {
     "name": "stdout",
     "output_type": "stream",
     "text": [
      "Wrong! The correct answer is: 2. Mars\n",
      "\n",
      "Question 3: What is 5 + 3?\n",
      "1. 5\n",
      "2. 8\n",
      "3. 10\n",
      "4. 15\n"
     ]
    },
    {
     "name": "stdin",
     "output_type": "stream",
     "text": [
      "Enter your choice (1-4):  2\n"
     ]
    },
    {
     "name": "stdout",
     "output_type": "stream",
     "text": [
      "Correct!\n",
      "\n",
      "--- Quiz Completed ---\n",
      "Your score: 2/3\n",
      "Thank you for playing!\n",
      "\n",
      "--- Quiz App Menu ---\n",
      "1. Start Quiz\n",
      "2. Exit\n"
     ]
    },
    {
     "name": "stdin",
     "output_type": "stream",
     "text": [
      "Choose an option (1-2):  2\n"
     ]
    },
    {
     "name": "stdout",
     "output_type": "stream",
     "text": [
      "Exiting the Quiz App. Goodbye!\n"
     ]
    }
   ],
   "source": [
    "# Simple Quiz App\n",
    "\n",
    "\n",
    "quiz_questions = [\n",
    "    {\n",
    "        \"question\": \"What is the capital of France?\",\n",
    "        \"options\": [\"1. Paris\", \"2. Berlin\", \"3. Rome\", \"4. Madrid\"],\n",
    "        \"answer\": 1\n",
    "    },\n",
    "    {\n",
    "        \"question\": \"Which planet is known as the Red Planet?\",\n",
    "        \"options\": [\"1. Earth\", \"2. Mars\", \"3. Jupiter\", \"4. Venus\"],\n",
    "        \"answer\": 2\n",
    "    },\n",
    "    {\n",
    "        \"question\": \"What is 5 + 3?\",\n",
    "        \"options\": [\"1. 5\", \"2. 8\", \"3. 10\", \"4. 15\"],\n",
    "        \"answer\": 2\n",
    "    }\n",
    "]\n",
    "\n",
    "def show_menu():\n",
    "    print(\"\\n--- Quiz App Menu ---\")\n",
    "    print(\"1. Start Quiz\")\n",
    "    print(\"2. Exit\")\n",
    "\n",
    "\n",
    "def start_quiz():\n",
    "    print(\"\\n--- Starting the Quiz ---\")\n",
    "    score = 0\n",
    "    total_questions = len(quiz_questions)\n",
    "\n",
    "    for i, question in enumerate(quiz_questions):\n",
    "        print(f\"\\nQuestion {i + 1}: {question['question']}\")\n",
    "        for option in question['options']:\n",
    "            print(option)\n",
    "        \n",
    "        try:\n",
    "            user_answer = int(input(\"Enter your choice (1-4): \"))\n",
    "            if user_answer == question['answer']:\n",
    "                print(\"Correct!\")\n",
    "                score += 1\n",
    "            else:\n",
    "                print(\"Wrong! The correct answer is:\", question['options'][question['answer'] - 1])\n",
    "        except ValueError:\n",
    "            print(\"Invalid input! Skipping this question.\")\n",
    "\n",
    "    print(\"\\n--- Quiz Completed ---\")\n",
    "    print(f\"Your score: {score}/{total_questions}\")\n",
    "    print(\"Thank you for playing!\")\n",
    "\n",
    "def main():\n",
    "    while True:\n",
    "        show_menu()\n",
    "        choice = input(\"Choose an option (1-2): \")\n",
    "        if choice == \"1\":\n",
    "            start_quiz()\n",
    "        elif choice == \"2\":\n",
    "            print(\"Exiting the Quiz App. Goodbye!\")\n",
    "            break\n",
    "        else:\n",
    "            print(\"Invalid choice! Please select a valid option.\")\n",
    "\n",
    "if __name__ == \"__main__\":\n",
    "    main()"
   ]
  },
  {
   "cell_type": "code",
   "execution_count": null,
   "id": "6c23777a-e0da-4279-9dd7-45b606a4791d",
   "metadata": {},
   "outputs": [],
   "source": []
  }
 ],
 "metadata": {
  "kernelspec": {
   "display_name": "Python 3 (ipykernel)",
   "language": "python",
   "name": "python3"
  },
  "language_info": {
   "codemirror_mode": {
    "name": "ipython",
    "version": 3
   },
   "file_extension": ".py",
   "mimetype": "text/x-python",
   "name": "python",
   "nbconvert_exporter": "python",
   "pygments_lexer": "ipython3",
   "version": "3.12.6"
  }
 },
 "nbformat": 4,
 "nbformat_minor": 5
}
